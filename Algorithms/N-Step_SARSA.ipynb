{
 "cells": [
  {
   "cell_type": "markdown",
   "metadata": {},
   "source": [
    "### N-Step Sarsa with Sutton Tile Encoding for feature construction"
   ]
  },
  {
   "cell_type": "code",
   "execution_count": 97,
   "metadata": {},
   "outputs": [],
   "source": [
    "# imports\n",
    "import numpy as np\n",
    "import torch\n",
    "import torch.nn as nn\n",
    "import torch.nn.functional as F\n",
    "import matplotlib.pyplot as plt\n",
    "import gym\n",
    "import pandas as pd\n",
    "import timeit\n",
    "from tqdm import notebook\n",
    "import itertools\n",
    "import utility_lib.SuttonTileEncoding as stenc\n",
    "# device for CUDA \n",
    "# device = \"cuda\" if torch.cuda.is_available() else \"cpu\""
   ]
  },
  {
   "cell_type": "code",
   "execution_count": 93,
   "metadata": {},
   "outputs": [],
   "source": [
    "class TilingLFA():\n",
    "    '''\n",
    "    Linear Function Approximation (FA) using Tiling Feature Encoding\n",
    "    (cited from Sutton and Barto, 2018)\n",
    "    '''\n",
    "    \n",
    "    # Estimator constructor and parameters\n",
    "    def __init__(self,step_size, n=8, max_dim=4096, k=None, et=False):\n",
    "        '''Constructor for the Tiling FA estimator.\n",
    "\n",
    "        Args:\n",
    "        - step_size [Float]: Fraction of the way to the target U.\n",
    "        - n [Int]: Number of tilings per state dimension. (should be power of 2 according to Sutton and Barto 2018)\n",
    "        - max_size [Int]: Maximum size of the feature vector.\n",
    "        - k [Int]: Tiling Dimension. \n",
    "        - et [Boolean]: Whether to use the eligibility trace.\n",
    "        '''\n",
    "        \n",
    "        self.max_dim = max_dim\n",
    "        self.n = n\n",
    "        self.k = k\n",
    "        self.et = et\n",
    "\n",
    "        # alpha = step_size/num_tilings, where step_size is the fraction of the way to the target \n",
    "        self.alpha = step_size / n\n",
    "\n",
    "        # Index hash table (IHT) for tile coding : assigns unique index to each tile up to max_dim tiles.\n",
    "        # max_dim >= total number of tiles (n x k x k)\n",
    "        # Used Sutton Tile Encoding for this implementation cite:[http://incompleteideas.net/tiles/tiles3.py-remove]\n",
    "        self.hash = stenc.IHT(max_dim)\n",
    "\n",
    "        # Initialize weights and eligibility trace if required\n",
    "        self.weights = np.zeros(max_dim)\n",
    "        if self.et:\n",
    "            self.z = np.zeros(max_dim)\n",
    "\n",
    "        # For mountain car environment, we need to scale the state (position and velocity) \n",
    "        # space to span the tiling dimension (k x k) Ref: http://incompleteideas.net/tiles/tiles3.html\n",
    "        self.pos_scaling_factor = self.k / (env.observation_space.high[0] - env.observation_space.low[0])\n",
    "        self.vel_scaling_factor = self.k / (env.observation_space.high[1] - env.observation_space.low[1])\n",
    "        \n",
    "    def get_feature_encoding(self, state, action):\n",
    "        '''Function to get the tiling features for a given state and action pair.\n",
    "        \n",
    "        Used tiles function of Sutton's tiling implementation which takes in index table, number of tilings,\n",
    "        and floats for state and ints for action.\n",
    "        Args:\n",
    "        - state [Array]: State vector (position and velocity).\n",
    "        - action [Int]: Action index.\n",
    "\n",
    "        Returns:\n",
    "        - features [Array]: Tiling features for given state and action.\n",
    "        '''\n",
    "        feature_vector = stenc.tiles(self.hash, self.n, \n",
    "                           [self.pos_scaling_factor * state[0], self.vel_scaling_factor * state[1]], \n",
    "                           [action])\n",
    "        return feature_vector\n",
    "    \n",
    "    def estimate_q(self, state, action=None):\n",
    "        '''Calculates the q value with linear function approximation using tiled features.\n",
    "\n",
    "        Args:\n",
    "        - s [Array]: State vector (position and velocity).\n",
    "        - a [Int]: Action index.\n",
    "\n",
    "        Returns:\n",
    "        - q [Float]: Q value for given state and action.\n",
    "        '''\n",
    "        # Get Q-value for all actions if action is not specified (for epsilon greedy policy)\n",
    "        if action is None:\n",
    "            features = [self.get_feature_encoding(state, a) for a in range(env.action_space.n)]\n",
    "        else:\n",
    "            features = [self.get_feature_encoding(state, action)]\n",
    "        \n",
    "        # just return of all the weights for which the feature vector is 1\n",
    "        return [np.sum(self.weights[feature]) for feature in features]\n",
    "        \n",
    "            \n",
    "    def update(self, state, action, target):\n",
    "        '''Updating the weights and eligibility trace using the TD error.\n",
    "        \n",
    "        Args:\n",
    "        - state [Array]: State vector (position and velocity).\n",
    "        - action [Int]: Action index.\n",
    "        - target [Float]: Target value.\n",
    "        '''\n",
    "        # Get the tiling features\n",
    "        features = self.get_feature_encoding(state, action)\n",
    "        q_estimate = self.estimate_q(state,action)\n",
    "        delta = (target - q_estimate)\n",
    "        \n",
    "        if self.et:\n",
    "            # Accumulating eligibility trace\n",
    "            # self.z[features] += 1  \n",
    "            self.z[features] = 1  # Replacing trace\n",
    "            self.weights += self.alpha * delta * self.z\n",
    "        else:\n",
    "            # Update without eligibility trace\n",
    "            self.weights[features] += self.alpha * delta\n",
    "                \n",
    "    \n",
    "    def reset_estimator(self, only_z=False):\n",
    "        '''Resets the estimator parameters\n",
    "        to their initial values.\n",
    "\n",
    "        Args:\n",
    "        - z_only [Boolean]: Whether to reset only the eligibility trace.\n",
    "        - et [Boolean]: Whether to use the eligibility trace.\n",
    "        '''\n",
    "        \n",
    "        if only_z:\n",
    "            assert self.et, 'no eligibility trace to reset.'\n",
    "            self.z = np.zeros(self.max_dim)\n",
    "        else:\n",
    "            if self.et:\n",
    "                self.z = np.zeros(self.max_dim)\n",
    "            self.weights = np.zeros(self.max_dim)\n",
    "        "
   ]
  },
  {
   "cell_type": "code",
   "execution_count": 88,
   "metadata": {},
   "outputs": [],
   "source": [
    "def get_action_probs(estimator, epsilon, num_actions, state):\n",
    "    '''Function to get the action probabilities for a given state using an epsilon greedy policy.\n",
    "\n",
    "    Args:\n",
    "    - estimator [Estimator]: Estimator object.\n",
    "    - epsilon [Float]: Epsilon value for epsilon greedy policy.\n",
    "    - num_actions [Int]: Number of actions.\n",
    "    - state [Array]: State vector (position and velocity).\n",
    "\n",
    "    Returns:\n",
    "    - action_probs [Array]: Action probabilities for given state.\n",
    "    '''\n",
    "    # setting probabilities for actions which are not a* to epsilon/num_actions\n",
    "    action_probs = np.ones(num_actions, dtype=float) * epsilon / num_actions\n",
    "    # getting the best action from q-values\n",
    "    q_values = estimator.estimate_q(state)\n",
    "    best_action_index = np.argmax(q_values)\n",
    "    # setting the best action probability to (1 - epsilon)/num_actions\n",
    "    action_probs[best_action_index] += (1.0 - epsilon)\n",
    "\n",
    "    return action_probs"
   ]
  },
  {
   "cell_type": "markdown",
   "metadata": {},
   "source": [
    "### N-step SARSA"
   ]
  },
  {
   "cell_type": "code",
   "execution_count": 89,
   "metadata": {},
   "outputs": [],
   "source": [
    "def n_step_SARSA(n, env, q_estimator, gamma=0.9, epsilon=0.1):\n",
    "    '''Episodic Semi-Gradient n-step SARSA algorithm\n",
    "\n",
    "    Args:\n",
    "    - n [Int]: Number of steps to take.\n",
    "    - env [Env]: Gym Environment.\n",
    "    - q_estimator [Estimator]: Q-value approximator.\n",
    "    - gamma [Float]: Discount factor.\n",
    "    - epsilon [Float]: Probability of taking a random action.\n",
    "    '''\n",
    "    \n",
    "    # Initialize state and select first action from the policy\n",
    "    state = env.reset()\n",
    "    action_probs = get_action_probs(q_estimator, epsilon, env.action_space.n, state)\n",
    "    action = np.random.choice(np.arange(len(action_probs)), p=action_probs)\n",
    "\n",
    "    # Step through episode\n",
    "    # setting T as infinity\n",
    "    T = float('inf')\n",
    "\n",
    "    # Storing the initial states, actions and rewards\n",
    "    states = [state]\n",
    "    actions = [action]\n",
    "    rewards = [0.0]\n",
    "    \n",
    "    # counting time steps 1,2,3,...\n",
    "    for t in itertools.count():\n",
    "        \n",
    "        if t < T:           \n",
    "            # Take action a, observe r and s'\n",
    "            new_state, reward, done, info = env.step(action)\n",
    "            # print(new_state,reward,done)\n",
    "            states.append(new_state)\n",
    "            rewards.append(reward)\n",
    "\n",
    "            if done:\n",
    "                T = t + 1\n",
    "\n",
    "            else:\n",
    "                # Select action a' using the epsilon-greedy policy\n",
    "                next_action_probs = get_action_probs(q_estimator, epsilon, env.action_space.n, new_state)\n",
    "                next_action = np.random.choice(np.arange(len(next_action_probs)), p=next_action_probs)\n",
    "                actions.append(next_action)\n",
    "        \n",
    "        # update time\n",
    "        tau = t + 1 - n  \n",
    "        if tau >= 0:       \n",
    "            # Calculate G\n",
    "            G = 0\n",
    "            for i in range(tau + 1, min(T, tau + n) + 1):\n",
    "                G += np.power(gamma, i - tau - 1) * rewards[i]\n",
    "            if tau + n < T:\n",
    "                new_q_values = q_estimator.estimate_q(states[tau + n],actions[tau + n])\n",
    "                G += np.power(gamma,n) * new_q_values[0]\n",
    "            # print(G)\n",
    "            # Update estimator parameters\n",
    "            q_estimator.update(states[tau], actions[tau], G)\n",
    "        \n",
    "        if tau == T - 1:\n",
    "            break\n",
    "\n",
    "        state = new_state\n",
    "        action = next_action\n",
    "    tot_reward = np.sum(rewards)\n",
    "    \n",
    "    return t, tot_reward"
   ]
  },
  {
   "cell_type": "markdown",
   "metadata": {},
   "source": [
    "#### Plotting functions"
   ]
  },
  {
   "cell_type": "code",
   "execution_count": 95,
   "metadata": {},
   "outputs": [],
   "source": [
    "def plot_episode_vs_return(episode_returns_list, window_size=5):\n",
    "    '''Plots returns per episode to show learning progress.\n",
    "\n",
    "    Args:\n",
    "    - episode_returns_list [Array]: Array of returns per episode.\n",
    "    - window_size [Int]: Window size for smoothing.\n",
    "    '''\n",
    "    \n",
    "    plt.figure(figsize=(10,5))\n",
    "    # smoothing steps per episode using rolling average for last smoothing_window episodes\n",
    "    smooth_returns = pd.Series(episode_returns_list).rolling(window_size).mean()\n",
    "    plt.plot(smooth_returns, label=\"N-Step SARSA\")\n",
    "    plt.xlabel(\"Episodes\")\n",
    "    plt.ylabel(\"Returns\")\n",
    "    plt.title(\"Returns per Episode\")\n",
    "    plt.legend()\n",
    "    plt.show()"
   ]
  },
  {
   "cell_type": "code",
   "execution_count": 90,
   "metadata": {},
   "outputs": [],
   "source": [
    "def plot_steps_per_episode(steps_per_episode, window_size=5):\n",
    "    '''Plots the number of steps per episode to show learning progress.\n",
    "\n",
    "    Args:\n",
    "    - steps_per_episode [Array]: Array of steps per episode.\n",
    "    - window_size [Int]: Window size for smoothing.\n",
    "    '''\n",
    "    \n",
    "    plt.figure(figsize=(10,5))\n",
    "    # smoothing steps per episode using rolling average for last smoothing_window episodes\n",
    "    smooth_steps_per_episode = pd.Series(steps_per_episode).rolling(window_size).mean()\n",
    "    plt.plot(smooth_steps_per_episode, label=\"N-Step SARSA\")\n",
    "    plt.xlabel(\"Episodes\")\n",
    "    plt.ylabel(\"Steps\")\n",
    "    plt.title(\"Steps per Episode\")\n",
    "    plt.legend()\n",
    "    plt.show()"
   ]
  },
  {
   "cell_type": "code",
   "execution_count": 91,
   "metadata": {},
   "outputs": [],
   "source": [
    "# using MountainCar-v0 environment\n",
    "env = gym.make(\"MountainCar-v0\")\n",
    "env._max_episode_steps = 5000\n",
    "\n",
    "np.random.seed(37)"
   ]
  },
  {
   "cell_type": "markdown",
   "metadata": {},
   "source": [
    "#### Running N-Step SARSA"
   ]
  },
  {
   "cell_type": "code",
   "execution_count": 96,
   "metadata": {},
   "outputs": [
    {
     "data": {
      "application/vnd.jupyter.widget-view+json": {
       "model_id": "bb470e34f8e346aeb5aae0e141ec15d3",
       "version_major": 2,
       "version_minor": 0
      },
      "text/plain": [
       "HBox(children=(FloatProgress(value=0.0, max=500.0), HTML(value='')))"
      ]
     },
     "metadata": {},
     "output_type": "display_data"
    },
    {
     "name": "stdout",
     "output_type": "stream",
     "text": [
      "\n"
     ]
    },
    {
     "data": {
      "image/png": "[encoded data removed]",
      "text/plain": [
       "<Figure size 720x360 with 1 Axes>"
      ]
     },
     "metadata": {
      "needs_background": "light"
     },
     "output_type": "display_data"
    },
    {
     "data": {
      "image/png": "[encoded data removed]",
      "text/plain": [
       "<Figure size 720x360 with 1 Axes>"
      ]
     },
     "metadata": {
      "needs_background": "light"
     },
     "output_type": "display_data"
    },
    {
     "name": "stdout",
     "output_type": "stream",
     "text": [
      "Episodes completed: 500 in 6.90s\n"
     ]
    }
   ],
   "source": [
    "# Fraction of the way we want to move towards target (we will set alpha = step_size/num_tilings)\n",
    "step_size = 0.5\n",
    "\n",
    "# Number of steps for bootstrapping (set to intermediate value)\n",
    "n = 4\n",
    "\n",
    "# number of episodes to run\n",
    "num_episodes = 500\n",
    "\n",
    "estimator = TilingLFA(step_size=step_size, n=8, k=8, et=False)\n",
    "\n",
    "# Record steps and returns for each episode to plot learning curves\n",
    "episode_steps_list = []\n",
    "episode_returns_list = []\n",
    "\n",
    "start_time = timeit.default_timer()\n",
    "for episode in notebook.tqdm(range(num_episodes)):\n",
    "        episode_steps, episode_return = n_step_SARSA(n, env, estimator, gamma=1, epsilon=0)\n",
    "        episode_steps_list.append(episode_steps)\n",
    "        episode_returns_list.append(episode_return)\n",
    "        # print(\"\\nEpisode: {} Return: {}\".format(episode + 1, episode_return), end=\"\")\n",
    "elapsed_time = timeit.default_timer() - start_time\n",
    "\n",
    "# plot_cost_to_go(env, estimator)\n",
    "plot_steps_per_episode(episode_steps_list)\n",
    "plot_episode_vs_return(episode_returns_list)\n",
    "print('Episodes completed: {} in {:.2f}s'.format(num_episodes, elapsed_time))"
   ]
  },
  {
   "cell_type": "code",
   "execution_count": null,
   "metadata": {},
   "outputs": [],
   "source": []
  }
 ],
 "metadata": {
  "interpreter": {
   "hash": "6d9298b8ff4f082f43332a94621994cb4e16eb733029094a478a18eb32bfbc66"
  },
  "kernelspec": {
   "display_name": "Python 3.9.6 64-bit ('base': conda)",
   "language": "python",
   "name": "python3"
  },
  "language_info": {
   "codemirror_mode": {
    "name": "ipython",
    "version": 3
   },
   "file_extension": ".py",
   "mimetype": "text/x-python",
   "name": "python",
   "nbconvert_exporter": "python",
   "pygments_lexer": "ipython3",
   "version": "3.9.6"
  },
  "orig_nbformat": 4
 },
 "nbformat": 4,
 "nbformat_minor": 2
}
