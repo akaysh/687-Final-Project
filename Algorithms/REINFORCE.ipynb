{
 "cells": [
  {
   "cell_type": "markdown",
   "metadata": {},
   "source": [
    "### REINFORCE with Baseline"
   ]
  },
  {
   "cell_type": "markdown",
   "metadata": {},
   "source": [
    "Here we are implementing REINFORCE algorithm for policy improvement. Unlike Q learning, the agent does not select the best action based on state-action values but rather from a probability distribution of actions. REINFORCE is based on policy gradient theorem and uses gradient ascent to update the policy parameters."
   ]
  },
  {
   "cell_type": "markdown",
   "metadata": {},
   "source": [
    "#### We are running the algorithm on Cart Pole domain using Open AI gym and have used whitened rewards as the baseline."
   ]
  },
  {
   "cell_type": "code",
   "execution_count": 58,
   "metadata": {},
   "outputs": [],
   "source": [
    "import gym\n",
    "\n",
    "import torch\n",
    "import torch.nn as nn\n",
    "import torch.nn.functional as F\n",
    "import torch.optim as optim\n",
    "from torch.distributions import Categorical\n",
    "from collections import deque\n",
    "\n",
    "import numpy as np\n",
    "from tqdm import notebook\n",
    "\n",
    "# device for CUDA \n",
    "device = \"cuda\" if torch.cuda.is_available() else \"cpu\""
   ]
  },
  {
   "cell_type": "code",
   "execution_count": 59,
   "metadata": {},
   "outputs": [],
   "source": [
    "# discount factor\n",
    "gamma = 0.99\n",
    "\n",
    "num_episodes = 1000\n",
    "\n",
    "# iterations per episode\n",
    "iterations = 10000\n",
    "\n",
    "# Policy NN hidden size\n",
    "policy_hidden_size = 128\n",
    "\n",
    "# State Value NN hidden size\n",
    "sv_hidden_size = 128"
   ]
  },
  {
   "cell_type": "code",
   "execution_count": 60,
   "metadata": {},
   "outputs": [],
   "source": [
    "# Small Neural Network to learn the policy paramerters\n",
    "\n",
    "class PolicyNN(nn.Module):\n",
    "    \n",
    "    #Takes in observations and outputs actions\n",
    "    def __init__(self, observation_space, action_space, hidden_size=128):\n",
    "        super(PolicyNN, self).__init__()\n",
    "        self.input = nn.Linear(observation_space, hidden_size)\n",
    "        self.output = nn.Linear(hidden_size, action_space)\n",
    "    \n",
    "    #forward pass\n",
    "    def forward(self, x):\n",
    "        # input states\n",
    "        x = self.input(x)\n",
    "        \n",
    "        #relu activation\n",
    "        x = F.relu(x)\n",
    "        \n",
    "        #actions\n",
    "        actions = self.output(x)\n",
    "        \n",
    "        #get softmax for a probability distribution\n",
    "        action_probabilities = F.softmax(actions, dim=1)\n",
    "        \n",
    "        return action_probabilities"
   ]
  },
  {
   "cell_type": "code",
   "execution_count": 61,
   "metadata": {},
   "outputs": [],
   "source": [
    "# Small Neural Network to learn state value function\n",
    "class StateValueNN(nn.Module):\n",
    "    \n",
    "    #Takes in state\n",
    "    def __init__(self, observation_space, hidden_size=128):\n",
    "        super(StateValueNN, self).__init__()\n",
    "        \n",
    "        self.input = nn.Linear(observation_space, hidden_size)\n",
    "        self.output = nn.Linear(hidden_size, 1)\n",
    "    \n",
    "    # forward pass    \n",
    "    def forward(self, x):\n",
    "        # input layer\n",
    "        x = self.input(x)\n",
    "        \n",
    "        # relu activation\n",
    "        x = F.relu(x)\n",
    "        \n",
    "        # state value output\n",
    "        state_value = self.output(x)\n",
    "        \n",
    "        return state_value"
   ]
  },
  {
   "cell_type": "code",
   "execution_count": 62,
   "metadata": {},
   "outputs": [],
   "source": [
    "def get_action(model, state):\n",
    "    ''' Selects an action given current state\n",
    "    Args:\n",
    "    - model [Neural Network]: NN to process state\n",
    "    - state [Array]: Array of action space in an environment\n",
    "    \n",
    "    Return:\n",
    "    - [int]: selected action\n",
    "    - [float]: log probability of selecting the action\n",
    "    '''\n",
    "    \n",
    "    # convert state to float tensor, add 1 dimension, allocate tensor on device\n",
    "    state = torch.from_numpy(state).float().unsqueeze(0).to(device)\n",
    "    state = state.detach()\n",
    "    # use network to predict action probabilities\n",
    "    action_probs = model(state)\n",
    "    \n",
    "    # sample an action from action probabilities\n",
    "    m = Categorical(action_probs)\n",
    "    action = m.sample()\n",
    "    \n",
    "    #return action\n",
    "    return action.item(), m.log_prob(action)"
   ]
  },
  {
   "cell_type": "code",
   "execution_count": 63,
   "metadata": {},
   "outputs": [],
   "source": [
    "def get_discounted_rewards(rewards,gamma):\n",
    "    ''' Get cumulated discounted reward from a list of rewards\n",
    "    Args:\n",
    "    - rewards [List]: list of rewards for an episode\n",
    "    \n",
    "    Returns:\n",
    "    - G [List]: list of cumulative discounted rewards\n",
    "    '''\n",
    "    # Calculate G at time t\n",
    "    G = []\n",
    "    \n",
    "    # cumulative reward\n",
    "    cum_r = 0\n",
    "    \n",
    "    # iterate rewards from Gt to G0\n",
    "    for r in rewards[::-1]:\n",
    "        # calculate cumulative reward\n",
    "        cum_r = r + cum_r * gamma\n",
    "        \n",
    "        #add to front of G\n",
    "        G.insert(0, cum_r)\n",
    "    \n",
    "    G = torch.tensor(G).to(device)\n",
    "    # normalizing rewards\n",
    "    G = (G - G.mean())/G.std()\n",
    "    \n",
    "    return G"
   ]
  },
  {
   "cell_type": "code",
   "execution_count": 64,
   "metadata": {},
   "outputs": [],
   "source": [
    "def train_policy_NN(delta_list, log_probs, optimizer):\n",
    "    ''' Update policy parameters\n",
    "    \n",
    "    Args:\n",
    "    - deltas [List]: difference between predicted and actual state values (G - V(s))\n",
    "    - log_probs [List]: trajectory of log probabilities of action taken\n",
    "    - optimizer [Optimizer]: optimizer to update policy parameters\n",
    "    \n",
    "    Returns:\n",
    "    - None\n",
    "    '''\n",
    "    \n",
    "    # policy loss\n",
    "    policy_loss = []\n",
    "    \n",
    "    for delta, log_p in zip(delta_list, log_probs):\n",
    "        # negative sign for gradient ascent\n",
    "        policy_loss.append(-delta * log_p)\n",
    "    \n",
    "    # Backpropagating the policy loss\n",
    "    optimizer.zero_grad()\n",
    "    sum(policy_loss).backward()\n",
    "    optimizer.step()"
   ]
  },
  {
   "cell_type": "code",
   "execution_count": 65,
   "metadata": {},
   "outputs": [],
   "source": [
    "def train_value_NN(G, state_values, optimizer):\n",
    "    ''' Update state-value function parameters\n",
    "    Args:\n",
    "    - G [List]: trajectory of cumulative discounted rewards \n",
    "    - state_vals [List]: trajectory of predicted state-value at each step\n",
    "    - optimizer [Optimizer]: optimizer to update state-value network parameters\n",
    "    '''\n",
    "    \n",
    "    # MSE loss\n",
    "    MSE = F.mse_loss(state_values, G)\n",
    "        \n",
    "    #Backpropagate\n",
    "    optimizer.zero_grad()\n",
    "    MSE.backward()\n",
    "    optimizer.step()"
   ]
  },
  {
   "cell_type": "code",
   "execution_count": 51,
   "metadata": {},
   "outputs": [
    {
     "data": {
      "application/vnd.jupyter.widget-view+json": {
       "model_id": "b10f3978fc1e4a91b4df7421b00f838d",
       "version_major": 2,
       "version_minor": 0
      },
      "text/plain": [
       "HBox(children=(FloatProgress(value=0.0, max=1000.0), HTML(value='')))"
      ]
     },
     "metadata": {},
     "output_type": "display_data"
    },
    {
     "name": "stdout",
     "output_type": "stream",
     "text": [
      "\n"
     ]
    }
   ],
   "source": [
    "def reinforceBaseline(train_score,num_episodes,iterations,env,model_policy,model_value,optimizer_policy,optimizer_value,gamma):\n",
    "    ''' Reinforce algorithm with baseline\n",
    "    Args:\n",
    "    - train_score [float]: score of the training episode\n",
    "    - num_episodes [int]: number of episodes to train\n",
    "    - iterations [int]: number of iterations per episode\n",
    "    - env [gym environment]: environment to train on\n",
    "    - model_policy [Neural Network]: NN for policy learning\n",
    "    - model_value [Neural Network]: NN for state value function learning\n",
    "    - optimizer_policy [Optimizer]: optimizer for policy NN\n",
    "    - optimizer_value [Optimizer]: optimizer for state value NN\n",
    "    - gamma [float]: discount factor\n",
    "\n",
    "    Returns:\n",
    "    - None\n",
    "    '''\n",
    "    # Main loop\n",
    "    scores = []\n",
    "\n",
    "    # using deque to store recent scores\n",
    "    recent_scores = deque(maxlen=100)\n",
    "\n",
    "    for episode in notebook.tqdm(range(num_episodes)):\n",
    "        \n",
    "        # initialization\n",
    "        state = env.reset()\n",
    "        trajectory = []\n",
    "        score = 0\n",
    "        \n",
    "        # iterate for each step\n",
    "        for step in range(iterations):\n",
    "            #env.render()\n",
    "            \n",
    "            # get next action and log probability\n",
    "            action, log_prob = get_action(model_policy, state)\n",
    "            \n",
    "            # execute\n",
    "            new_state, reward, done, info = env.step(action)\n",
    "            \n",
    "            # adding up score for current episode\n",
    "            score += reward\n",
    "            \n",
    "            # recording the trajectory\n",
    "            trajectory.append([state, action, reward, log_prob])\n",
    "            \n",
    "            # break if done\n",
    "            if done:\n",
    "                break\n",
    "            \n",
    "            state = new_state\n",
    "        \n",
    "        # scores for plotting\n",
    "        scores.append(score)\n",
    "        recent_scores.append(score)\n",
    "        \n",
    "        # breaking if average score is greater than or equal to a given solved score (training completed)\n",
    "        if len(recent_scores) == 100:\n",
    "            average = sum(recent_scores)/len(recent_scores)\n",
    "            if average >= train_score:\n",
    "                break\n",
    "        \n",
    "        \n",
    "        # get state, action, reward, log probability from trajectory\n",
    "        states, actions, rewards, log_probs = map(list, zip(*trajectory))\n",
    "        \n",
    "        # get discounted rewards\n",
    "        G = get_discounted_rewards(rewards,gamma)\n",
    "        \n",
    "        # get state values from model and train state value network\n",
    "        state_vals = []\n",
    "        for state in states:\n",
    "            state = torch.from_numpy(state).float().unsqueeze(0).to(device)\n",
    "            state_vals.append(model_value(state))\n",
    "            \n",
    "        state_vals = torch.stack(state_vals).squeeze()\n",
    "        \n",
    "        train_value_NN(G, state_vals, optimizer_value)\n",
    "            \n",
    "        # list of delta values (G - V(s))\n",
    "        delta_list = [G_t - S_val for G_t, S_val in zip(G, state_vals)]\n",
    "        delta_list = torch.tensor(delta_list).to(device)\n",
    "        \n",
    "        train_policy_NN(delta_list, log_probs, optimizer_policy)\n",
    "        \n",
    "    env.close()\n",
    "    return scores"
   ]
  },
  {
   "cell_type": "markdown",
   "metadata": {},
   "source": [
    "### Cartpole-v1 using REINFORCE with whitened rewards as a baseline"
   ]
  },
  {
   "cell_type": "code",
   "execution_count": 66,
   "metadata": {},
   "outputs": [],
   "source": [
    "# Environment\n",
    "environment_name = \"CartPole-v1\"\n",
    "env = gym.make(environment_name)\n",
    "\n",
    "# Policy Neural Network\n",
    "model_policy = PolicyNN(env.observation_space.shape[0], env.action_space.n,policy_hidden_size).to(device)\n",
    "model_value = StateValueNN(env.observation_space.shape[0],sv_hidden_size).to(device)\n",
    "\n",
    "# Adam optimizer\n",
    "# learning rate for plicy parameters is 1e-3 and learning rate for state value parameters is 1e-2\n",
    "policy_lr = 1e-3\n",
    "value_lr = 1e-2\n",
    "optimizer_policy = optim.Adam(model_policy.parameters(), lr=policy_lr)\n",
    "optimizer_value = optim.Adam(model_value.parameters(), lr=value_lr)"
   ]
  },
  {
   "cell_type": "code",
   "execution_count": null,
   "metadata": {},
   "outputs": [],
   "source": [
    "cart_pole_train_score = 195\n",
    "scores = reinforceBaseline(cart_pole_train_score,num_episodes,iterations,env,model_policy,model_value,optimizer_policy,optimizer_value,gamma)"
   ]
  },
  {
   "cell_type": "markdown",
   "metadata": {},
   "source": [
    "### Plotting the Loss"
   ]
  },
  {
   "cell_type": "code",
   "execution_count": 52,
   "metadata": {},
   "outputs": [
    {
     "data": {
      "image/png": "[encoded data removed]",
      "text/plain": [
       "<Figure size 432x288 with 1 Axes>"
      ]
     },
     "metadata": {},
     "output_type": "display_data"
    }
   ],
   "source": [
    "import matplotlib.pyplot as plt\n",
    "from sklearn.linear_model import LinearRegression\n",
    "import seaborn as sns\n",
    "import numpy as np\n",
    "\n",
    "sns.set()\n",
    "\n",
    "plt.plot(scores)\n",
    "plt.ylabel('score')\n",
    "plt.xlabel('no. of episodes')\n",
    "plt.title('CartPole with REINFORCE + Whitening rewards baseline')\n",
    "\n",
    "reg = LinearRegression().fit(np.arange(len(scores)).reshape(-1, 1), np.array(scores).reshape(-1, 1))\n",
    "y_pred = reg.predict(np.arange(len(scores)).reshape(-1, 1))\n",
    "plt.plot(y_pred)\n",
    "plt.show()"
   ]
  },
  {
   "cell_type": "markdown",
   "metadata": {},
   "source": [
    "### Testing Policy"
   ]
  },
  {
   "cell_type": "code",
   "execution_count": 56,
   "metadata": {},
   "outputs": [
    {
     "data": {
      "application/vnd.jupyter.widget-view+json": {
       "model_id": "324fafdc4c104646aa0a9c5dfb63e858",
       "version_major": 2,
       "version_minor": 0
      },
      "text/plain": [
       "HBox(children=(FloatProgress(value=0.0), HTML(value='')))"
      ]
     },
     "metadata": {},
     "output_type": "display_data"
    },
    {
     "name": "stdout",
     "output_type": "stream",
     "text": [
      "\n"
     ]
    }
   ],
   "source": [
    "done = False\n",
    "state = env.reset()\n",
    "\n",
    "scores = []\n",
    "\n",
    "for i in notebook.tqdm(range(100)):\n",
    "    state = env.reset()\n",
    "    done = False\n",
    "    score = 0\n",
    "    while not done:\n",
    "        env.render()\n",
    "        action, lp = get_action(model_policy, state)\n",
    "        new_state, reward, done, info = env.step(action)\n",
    "        score += reward\n",
    "        state = new_state\n",
    "    scores.append(score)"
   ]
  },
  {
   "cell_type": "code",
   "execution_count": 57,
   "metadata": {},
   "outputs": [
    {
     "data": {
      "text/plain": [
       "249.38"
      ]
     },
     "execution_count": 57,
     "metadata": {},
     "output_type": "execute_result"
    }
   ],
   "source": [
    "# average score\n",
    "sum(scores)/len(scores)"
   ]
  },
  {
   "cell_type": "code",
   "execution_count": null,
   "metadata": {},
   "outputs": [],
   "source": []
  }
 ],
 "metadata": {
  "interpreter": {
   "hash": "6d9298b8ff4f082f43332a94621994cb4e16eb733029094a478a18eb32bfbc66"
  },
  "kernelspec": {
   "display_name": "Python 3.9.6 64-bit ('base': conda)",
   "language": "python",
   "name": "python3"
  },
  "language_info": {
   "codemirror_mode": {
    "name": "ipython",
    "version": 3
   },
   "file_extension": ".py",
   "mimetype": "text/x-python",
   "name": "python",
   "nbconvert_exporter": "python",
   "pygments_lexer": "ipython3",
   "version": "3.9.6"
  },
  "orig_nbformat": 4
 },
 "nbformat": 4,
 "nbformat_minor": 2
}
